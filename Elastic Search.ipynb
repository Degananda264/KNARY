{
 "cells": [
  {
   "cell_type": "code",
   "execution_count": 1,
   "id": "ad6b148b",
   "metadata": {},
   "outputs": [],
   "source": [
    "from elasticsearch import Elasticsearch\n",
    "from elasticsearch_dsl import Search\n",
    "\n",
    "import pandas as pd\n",
    "import json\n",
    "import re\n",
    "import datetime"
   ]
  },
  {
   "cell_type": "code",
   "execution_count": 2,
   "id": "4fb22563",
   "metadata": {},
   "outputs": [],
   "source": [
    "es = Elasticsearch([{'host': 'localhost', 'port': 9200}])"
   ]
  },
  {
   "cell_type": "code",
   "execution_count": 3,
   "id": "b77b97d7",
   "metadata": {},
   "outputs": [],
   "source": [
    "def JSON_converter(header_lst, val_lst):\n",
    "    output = {}\n",
    "    for header, val in zip(header_lst, val_lst):\n",
    "        output[header] = val\n",
    "     \n",
    "    #return output\n",
    "    return json.dumps(output, indent = 2)\n",
    "\n",
    "def JSON_generator(input_df):\n",
    "    header_lst = input_df.columns.tolist()\n",
    "    header_lst.remove('contract_id')\n",
    "    header_lst.remove('file_name')\n",
    "    for idx, row_val in input_df.iterrows():\n",
    "        file_name = row_val[-1]\n",
    "        file_path = 'data/Txt files/'+file_name\n",
    "        contract_id = row_val[0]\n",
    "        JSON_data = row_val[1:-1].tolist()\n",
    "        try:\n",
    "            with open(file_path, 'r' , encoding='utf-8') as f:\n",
    "                text_data = f.read().replace('\\n', '').replace(u'\\xa0',' ')\n",
    "            header_lst.append('text_content') \n",
    "            JSON_data.append(text_data)\n",
    "            \n",
    "            yield contract_id, JSON_converter(header_lst, JSON_data)\n",
    "            \n",
    "        except:\n",
    "            print('cannot process txt_file {}'.format(file_name))\n",
    "\n",
    "def process_dataSource(input_df):\n",
    "    \n",
    "    output_df = input_df.copy()\n",
    "    output_df['Contract Duration (Days)'] = output_df['Contract Duration (Days)'].fillna('0')\n",
    "    output_df['Contract Duration (Days)'] = output_df['Contract Duration (Days)'].apply(lambda x: int(re.sub('[^0-9]', '', x)))\n",
    "    output_df['contract_id'] = output_df['contract_id'].astype(int)\n",
    "    \n",
    "    output_df['Effective Date'] = pd.to_datetime(output_df['Effective Date'], utc=True)\n",
    "    output_df['Expiration Date'] = pd.to_datetime(output_df['Expiration Date'], utc=True)\n",
    "    output_df['Effective Date'].fillna(datetime.datetime(2100,1,1), inplace = True)\n",
    "    output_df['Expiration Date'].fillna(datetime.datetime(2100,1,1), inplace = True)\n",
    "    #output_df['Effective Date'] = output_df['Effective Date'].strftime('%Y-%m-%d')\n",
    "    #output_df['Expiration Date'] = output_df['Expiration Date'].strftime('%Y-%m-%d')                                                                      \n",
    "    output_df.fillna('', inplace = True)\n",
    "    \n",
    "    return output_df\n",
    "\n",
    "ContractMetaData = pd.read_csv('data/300_metadata.csv')\n",
    "processed_data = process_dataSource(ContractMetaData)\n",
    "contract_g = JSON_generator(processed_data)"
   ]
  },
  {
   "cell_type": "code",
   "execution_count": 9,
   "id": "56608c45",
   "metadata": {},
   "outputs": [
    {
     "ename": "AttributeError",
     "evalue": "'DataFrame' object has no attribute 'tolist'",
     "output_type": "error",
     "traceback": [
      "\u001b[1;31m---------------------------------------------------------------------------\u001b[0m",
      "\u001b[1;31mAttributeError\u001b[0m                            Traceback (most recent call last)",
      "\u001b[1;32m~\\AppData\\Local\\Temp\\1/ipykernel_6828/3918243448.py\u001b[0m in \u001b[0;36m<module>\u001b[1;34m\u001b[0m\n\u001b[1;32m----> 1\u001b[1;33m \u001b[0mJSON_data\u001b[0m \u001b[1;33m=\u001b[0m \u001b[0mprocessed_data\u001b[0m\u001b[1;33m[\u001b[0m\u001b[1;36m1\u001b[0m\u001b[1;33m:\u001b[0m\u001b[1;33m-\u001b[0m\u001b[1;36m1\u001b[0m\u001b[1;33m]\u001b[0m\u001b[1;33m.\u001b[0m\u001b[0mtolist\u001b[0m\u001b[1;33m(\u001b[0m\u001b[1;33m)\u001b[0m\u001b[1;33m\u001b[0m\u001b[1;33m\u001b[0m\u001b[0m\n\u001b[0m",
      "\u001b[1;32m~\\Anaconda3\\lib\\site-packages\\pandas\\core\\generic.py\u001b[0m in \u001b[0;36m__getattr__\u001b[1;34m(self, name)\u001b[0m\n\u001b[0;32m   5485\u001b[0m         ):\n\u001b[0;32m   5486\u001b[0m             \u001b[1;32mreturn\u001b[0m \u001b[0mself\u001b[0m\u001b[1;33m[\u001b[0m\u001b[0mname\u001b[0m\u001b[1;33m]\u001b[0m\u001b[1;33m\u001b[0m\u001b[1;33m\u001b[0m\u001b[0m\n\u001b[1;32m-> 5487\u001b[1;33m         \u001b[1;32mreturn\u001b[0m \u001b[0mobject\u001b[0m\u001b[1;33m.\u001b[0m\u001b[0m__getattribute__\u001b[0m\u001b[1;33m(\u001b[0m\u001b[0mself\u001b[0m\u001b[1;33m,\u001b[0m \u001b[0mname\u001b[0m\u001b[1;33m)\u001b[0m\u001b[1;33m\u001b[0m\u001b[1;33m\u001b[0m\u001b[0m\n\u001b[0m\u001b[0;32m   5488\u001b[0m \u001b[1;33m\u001b[0m\u001b[0m\n\u001b[0;32m   5489\u001b[0m     \u001b[1;32mdef\u001b[0m \u001b[0m__setattr__\u001b[0m\u001b[1;33m(\u001b[0m\u001b[0mself\u001b[0m\u001b[1;33m,\u001b[0m \u001b[0mname\u001b[0m\u001b[1;33m:\u001b[0m \u001b[0mstr\u001b[0m\u001b[1;33m,\u001b[0m \u001b[0mvalue\u001b[0m\u001b[1;33m)\u001b[0m \u001b[1;33m->\u001b[0m \u001b[1;32mNone\u001b[0m\u001b[1;33m:\u001b[0m\u001b[1;33m\u001b[0m\u001b[1;33m\u001b[0m\u001b[0m\n",
      "\u001b[1;31mAttributeError\u001b[0m: 'DataFrame' object has no attribute 'tolist'"
     ]
    }
   ],
   "source": [
    "ContractMetaData.head(2)"
   ]
  },
  {
   "cell_type": "code",
   "execution_count": 7,
   "id": "37c4b480",
   "metadata": {},
   "outputs": [
    {
     "data": {
      "text/html": [
       "<div>\n",
       "<style scoped>\n",
       "    .dataframe tbody tr th:only-of-type {\n",
       "        vertical-align: middle;\n",
       "    }\n",
       "\n",
       "    .dataframe tbody tr th {\n",
       "        vertical-align: top;\n",
       "    }\n",
       "\n",
       "    .dataframe thead th {\n",
       "        text-align: right;\n",
       "    }\n",
       "</style>\n",
       "<table border=\"1\" class=\"dataframe\">\n",
       "  <thead>\n",
       "    <tr style=\"text-align: right;\">\n",
       "      <th></th>\n",
       "      <th>contract_id</th>\n",
       "      <th>Alternate Dispute Resolution Terms</th>\n",
       "      <th>Confidentiality Terms</th>\n",
       "      <th>Contract Duration (Days)</th>\n",
       "      <th>Data Incident Response For Data Breaches Term</th>\n",
       "      <th>Effective Date</th>\n",
       "      <th>Expiration Date</th>\n",
       "      <th>Governing Law</th>\n",
       "      <th>Indemnity Terms</th>\n",
       "      <th>Jurisdiction</th>\n",
       "      <th>...</th>\n",
       "      <th>Signer 1</th>\n",
       "      <th>Signer 1 Title</th>\n",
       "      <th>Signer 2</th>\n",
       "      <th>Signer 2 Title</th>\n",
       "      <th>Termination Days</th>\n",
       "      <th>Termination Notice</th>\n",
       "      <th>Termination Rights Terms</th>\n",
       "      <th>Waiver Of Jury Trial Terms</th>\n",
       "      <th>Warranty Terms</th>\n",
       "      <th>file_name</th>\n",
       "    </tr>\n",
       "  </thead>\n",
       "  <tbody>\n",
       "    <tr>\n",
       "      <th>0</th>\n",
       "      <td>8730</td>\n",
       "      <td>NO</td>\n",
       "      <td>YES</td>\n",
       "      <td>0</td>\n",
       "      <td>NO</td>\n",
       "      <td>2019-11-08 00:00:00+00:00</td>\n",
       "      <td>2100-01-01 00:00:00</td>\n",
       "      <td>the United States of America</td>\n",
       "      <td>YES</td>\n",
       "      <td>Texas</td>\n",
       "      <td>...</td>\n",
       "      <td>Clark R. Moore</td>\n",
       "      <td>EVP</td>\n",
       "      <td>Viktor Tkachev</td>\n",
       "      <td>General Counsel</td>\n",
       "      <td>1015.0</td>\n",
       "      <td>effective fifteen (15) days after Advisor s</td>\n",
       "      <td>YES</td>\n",
       "      <td>NO</td>\n",
       "      <td>NO</td>\n",
       "      <td>21697_ADVISORY_AGREEMENT (3).doc_20210524_1432...</td>\n",
       "    </tr>\n",
       "    <tr>\n",
       "      <th>1</th>\n",
       "      <td>8731</td>\n",
       "      <td>NO</td>\n",
       "      <td>YES</td>\n",
       "      <td>0</td>\n",
       "      <td>NO</td>\n",
       "      <td>2100-01-01 00:00:00</td>\n",
       "      <td>2100-01-01 00:00:00</td>\n",
       "      <td>Delaware</td>\n",
       "      <td>NO</td>\n",
       "      <td>Delaware</td>\n",
       "      <td>...</td>\n",
       "      <td>Timothy AGRIUM</td>\n",
       "      <td>CEO</td>\n",
       "      <td>Timothy B. Cabeootesti</td>\n",
       "      <td></td>\n",
       "      <td>30.0</td>\n",
       "      <td>end of a written 30 day notice/cure period, if</td>\n",
       "      <td>YES</td>\n",
       "      <td>NO</td>\n",
       "      <td>YES</td>\n",
       "      <td>21698_Agrium Nutrien Master Subscription Servi...</td>\n",
       "    </tr>\n",
       "  </tbody>\n",
       "</table>\n",
       "<p>2 rows × 47 columns</p>\n",
       "</div>"
      ],
      "text/plain": [
       "   contract_id Alternate Dispute Resolution Terms Confidentiality Terms  \\\n",
       "0         8730                                 NO                   YES   \n",
       "1         8731                                 NO                   YES   \n",
       "\n",
       "   Contract Duration (Days) Data Incident Response For Data Breaches Term  \\\n",
       "0                         0                                            NO   \n",
       "1                         0                                            NO   \n",
       "\n",
       "              Effective Date      Expiration Date  \\\n",
       "0  2019-11-08 00:00:00+00:00  2100-01-01 00:00:00   \n",
       "1        2100-01-01 00:00:00  2100-01-01 00:00:00   \n",
       "\n",
       "                  Governing Law Indemnity Terms Jurisdiction  ...  \\\n",
       "0  the United States of America             YES        Texas  ...   \n",
       "1                      Delaware              NO     Delaware  ...   \n",
       "\n",
       "         Signer 1 Signer 1 Title                Signer 2   Signer 2 Title  \\\n",
       "0  Clark R. Moore            EVP          Viktor Tkachev  General Counsel   \n",
       "1  Timothy AGRIUM            CEO  Timothy B. Cabeootesti                    \n",
       "\n",
       "  Termination Days                              Termination Notice  \\\n",
       "0           1015.0     effective fifteen (15) days after Advisor s   \n",
       "1             30.0  end of a written 30 day notice/cure period, if   \n",
       "\n",
       "  Termination Rights Terms Waiver Of Jury Trial Terms Warranty Terms  \\\n",
       "0                      YES                         NO             NO   \n",
       "1                      YES                         NO            YES   \n",
       "\n",
       "                                           file_name  \n",
       "0  21697_ADVISORY_AGREEMENT (3).doc_20210524_1432...  \n",
       "1  21698_Agrium Nutrien Master Subscription Servi...  \n",
       "\n",
       "[2 rows x 47 columns]"
      ]
     },
     "execution_count": 7,
     "metadata": {},
     "output_type": "execute_result"
    }
   ],
   "source": [
    "processed_data.head(2)"
   ]
  },
  {
   "cell_type": "code",
   "execution_count": null,
   "id": "2ed6c985",
   "metadata": {},
   "outputs": [],
   "source": [
    "#text_template = {\n",
    "#                \"type\": \"text\",\n",
    "#                \"analyzer\": \"standard\",\n",
    "#                \"fields\": {\n",
    "#                    \"keyword\": {\"type\": \"keyword\"},\n",
    "#                    \"ngrams\": {\"type\": \"text\", \"analyzer\": \"ngram_analyzer\"},\n",
    "#                }}"
   ]
  },
  {
   "cell_type": "code",
   "execution_count": null,
   "id": "5ecab5d3",
   "metadata": {},
   "outputs": [],
   "source": [
    "text_template = {\n",
    "                \"type\": \"text\",\n",
    "                \"analyzer\": \"standard\",\n",
    "                }\n",
    "    \n",
    "date_template = {\"type\": \"date\"}\n",
    "    \n",
    "numeric_template = {\"type\": \"integer\"}\n",
    "\n",
    "def ESupdate_mapping(es, index_name, header_lst, remove_lst):\n",
    "    for property_ in header_lst:\n",
    "        if property_ in remove_lst:\n",
    "            continue\n",
    "            \n",
    "        update_mapping = {}\n",
    "        property_json = {}\n",
    "        if property_ == 'Contract Duration (Days)':\n",
    "            property_json[property_] = numeric_template\n",
    "        elif property_ in ['Effective Date', 'Expiration Date']:\n",
    "            property_json[property_] = date_template\n",
    "        else:\n",
    "            property_json[property_] = text_template\n",
    "            \n",
    "        update_mapping[\"properties\"] = property_json\n",
    "        updates = json.dumps(update_mapping, indent = 2)\n",
    "        es.indices.put_mapping(updates, index_name)\n",
    "\n",
    "index_name = \"test-index2\"\n",
    "es.index(index=index_name , document={'author': 'lucas'})\n",
    "test_lst = processed_data.columns.tolist() + ['text_content']\n",
    "remove_lst = ['contract_id', 'file_name']\n",
    "ESupdate_mapping(es, index_name , test_lst, remove_lst)"
   ]
  },
  {
   "cell_type": "code",
   "execution_count": null,
   "id": "813fdfd6",
   "metadata": {},
   "outputs": [],
   "source": [
    "test = 'data/Txt files/21697_ADVISORY_AGREEMENT (3).doc_20210524_143234.txt'\n",
    "\n",
    "with open(test, 'r' , encoding='utf-8') as f:\n",
    "    text_data = f.read().replace('\\n', '').replace(u'\\xa0',' ')"
   ]
  },
  {
   "cell_type": "code",
   "execution_count": null,
   "id": "d81ee66e",
   "metadata": {
    "scrolled": false
   },
   "outputs": [],
   "source": [
    "for id_, data in contract_g:\n",
    "    #print(id_,data)\n",
    "    res = es.index(index=index_name, id = id_, body=data)"
   ]
  },
  {
   "cell_type": "code",
   "execution_count": null,
   "id": "7c98b583",
   "metadata": {},
   "outputs": [],
   "source": [
    "res"
   ]
  },
  {
   "cell_type": "code",
   "execution_count": null,
   "id": "d3b812d1",
   "metadata": {
    "scrolled": true
   },
   "outputs": [],
   "source": [
    "es.search(index=index_name, query={\"match_all\": {}})"
   ]
  },
  {
   "cell_type": "code",
   "execution_count": null,
   "id": "ecf108a7",
   "metadata": {
    "scrolled": true
   },
   "outputs": [],
   "source": [
    "es.indices.get_mapping(index_name)"
   ]
  },
  {
   "cell_type": "code",
   "execution_count": null,
   "id": "eb517de4",
   "metadata": {},
   "outputs": [],
   "source": [
    "help(es.indices)"
   ]
  },
  {
   "cell_type": "code",
   "execution_count": null,
   "id": "d0552081",
   "metadata": {},
   "outputs": [],
   "source": [
    "res = es.search(index=\"test-index2\", query={\"match\": {'text_content': 'Clark R. MooreName: Clark R'}})"
   ]
  },
  {
   "cell_type": "code",
   "execution_count": null,
   "id": "c6c522f3",
   "metadata": {},
   "outputs": [],
   "source": [
    "res = es.search(index=\"test-index2\", query={\"range\": {\"Expiration Date\": {\"gte\": \"2020-01-01T00:00:00\",\"lte\": \"now\"}}})"
   ]
  },
  {
   "cell_type": "code",
   "execution_count": null,
   "id": "56172b87",
   "metadata": {
    "scrolled": true
   },
   "outputs": [],
   "source": [
    "search_res = res['hits']['hits']\n",
    "print(len(search_res))\n",
    "\n",
    "for item in search_res:\n",
    "    print(\"id: {}, score: {}\".format(item['_id'], item['_score']))\n",
    "    print(item['_source']['Expiration Date'])"
   ]
  },
  {
   "cell_type": "code",
   "execution_count": null,
   "id": "518b206a",
   "metadata": {},
   "outputs": [],
   "source": [
    "es.get(index=\"test-index2\", id=8730)"
   ]
  },
  {
   "cell_type": "code",
   "execution_count": null,
   "id": "b57a4f97",
   "metadata": {},
   "outputs": [],
   "source": [
    "es.transport.close()"
   ]
  }
 ],
 "metadata": {
  "kernelspec": {
   "display_name": "Python 3 (ipykernel)",
   "language": "python",
   "name": "python3"
  },
  "language_info": {
   "codemirror_mode": {
    "name": "ipython",
    "version": 3
   },
   "file_extension": ".py",
   "mimetype": "text/x-python",
   "name": "python",
   "nbconvert_exporter": "python",
   "pygments_lexer": "ipython3",
   "version": "3.9.7"
  }
 },
 "nbformat": 4,
 "nbformat_minor": 5
}
