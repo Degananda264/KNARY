{
 "cells": [
  {
   "cell_type": "code",
   "execution_count": 1,
   "id": "6872cc66",
   "metadata": {},
   "outputs": [],
   "source": [
    "from elasticsearch import Elasticsearch\n",
    "from elasticsearch_dsl import Search\n",
    "\n",
    "import pandas as pd\n",
    "import json\n",
    "import re\n",
    "import datetime"
   ]
  },
  {
   "cell_type": "code",
   "execution_count": 2,
   "id": "e31215ff",
   "metadata": {},
   "outputs": [],
   "source": [
    "es = Elasticsearch([{'host': 'localhost', 'port': 9200}])"
   ]
  },
  {
   "cell_type": "code",
   "execution_count": 3,
   "id": "6706a7ef",
   "metadata": {},
   "outputs": [
    {
     "name": "stderr",
     "output_type": "stream",
     "text": [
      "D:\\Users\\Degananda.Reddy\\AppData\\Local\\Temp\\1/ipykernel_10984/3543988993.py:12: DeprecationWarning: The 'body' parameter is deprecated for the 'index' API and will be removed in a future version. Instead use the 'document' parameter. See https://github.com/elastic/elasticsearch-py/issues/1698 for more information\n",
      "  res = es.index(index='my-index', body=a_data)\n",
      "D:\\Users\\Degananda.Reddy\\Anaconda3\\lib\\site-packages\\elasticsearch\\connection\\base.py:200: ElasticsearchWarning: Elasticsearch built-in security features are not enabled. Without authentication, your cluster could be accessible to anyone. See https://www.elastic.co/guide/en/elasticsearch/reference/7.16/security-minimal-setup.html to enable security.\n",
      "  warnings.warn(message, category=ElasticsearchWarning)\n"
     ]
    },
    {
     "name": "stdout",
     "output_type": "stream",
     "text": [
      "{'_index': 'my-index', '_type': '_doc', '_id': 'Ec4ZuH0BhipxYBVr39iL', '_version': 1, 'result': 'created', '_shards': {'total': 2, 'successful': 1, 'failed': 0}, '_seq_no': 5, '_primary_term': 1}\n",
      "{'_index': 'my-index', '_type': '_doc', '_id': 'Es4ZuH0BhipxYBVr39jR', '_version': 1, 'result': 'created', '_shards': {'total': 2, 'successful': 1, 'failed': 0}, '_seq_no': 6, '_primary_term': 1}\n",
      "{'_index': 'my-index', '_type': '_doc', '_id': 'E84ZuH0BhipxYBVr39jy', '_version': 1, 'result': 'created', '_shards': {'total': 2, 'successful': 1, 'failed': 0}, '_seq_no': 7, '_primary_term': 1}\n",
      "{'_index': 'my-index', '_type': '_doc', '_id': 'FM4ZuH0BhipxYBVr4NgG', '_version': 1, 'result': 'created', '_shards': {'total': 2, 'successful': 1, 'failed': 0}, '_seq_no': 8, '_primary_term': 1}\n",
      "{'_index': 'my-index', '_type': '_doc', '_id': 'Fc4ZuH0BhipxYBVr4Ngu', '_version': 1, 'result': 'created', '_shards': {'total': 2, 'successful': 1, 'failed': 0}, '_seq_no': 9, '_primary_term': 1}\n"
     ]
    }
   ],
   "source": [
    "data = [{\"balance\": \"$2,410.62\", \"age\": 40, \"name\": \"Bettie Buckner\", \"gender\": \"female\", \"company\": \"RODEOMAD\",\n",
    "         \"email\": \"bettiebuckner@rodeomad.com\", \"phone\": \"+1 (857) 491-2461\"},\n",
    "        {\"balance\": \"$1,143.56\", \"age\": 28, \"name\": \"Hanson Gates\", \"gender\": \"male\", \"company\": \"PEARLESSA\",\n",
    "         \"email\": \"hansongates@pearlessa.com\", \"phone\": \"+1 (825) 524-3896\"},\n",
    "        {\"balance\": \"$2,542.95\", \"age\": 20, \"name\": \"Audra Marshall\", \"gender\": \"female\", \"company\": \"COMTRAIL\",\n",
    "         \"email\": \"audramarshall@comtrail.com\", \"phone\": \"+1 (920) 569-2780\"},\n",
    "        {\"balance\": \"$2,235.86\", \"age\": 34, \"name\": \"Milagros Conrad\", \"gender\": \"female\", \"company\": \"IDEGO\",\n",
    "         \"email\": \"milagrosconrad@idego.com\", \"phone\": \"+1 (823) 451-2064\"},\n",
    "        {\"balance\": \"$2,606.95\", \"age\": 34, \"name\": \"Maureen Lopez\", \"gender\": \"female\", \"company\": \"EVENTEX\",\n",
    "         \"email\": \"maureenlopez@eventex.com\", \"phone\": \"+1 (913) 425-3716\"}]\n",
    "for a_data in data:\n",
    "    res = es.index(index='my-index', body=a_data)\n",
    "    print(res)"
   ]
  },
  {
   "cell_type": "code",
   "execution_count": 4,
   "id": "1f70512c",
   "metadata": {},
   "outputs": [
    {
     "name": "stdout",
     "output_type": "stream",
     "text": [
      "{'my-index': {'aliases': {}}, 'test-index2': {'aliases': {}}, 'test-index': {'aliases': {}}}\n"
     ]
    },
    {
     "name": "stderr",
     "output_type": "stream",
     "text": [
      "D:\\Users\\Degananda.Reddy\\AppData\\Local\\Temp\\1/ipykernel_10984/504408242.py:1: DeprecationWarning: Using positional arguments for APIs is deprecated and will be disabled in 8.0.0. Instead use only keyword arguments for all APIs. See https://github.com/elastic/elasticsearch-py/issues/1698 for more information\n",
      "  print(es.indices.get_alias(\"*\"))\n"
     ]
    }
   ],
   "source": [
    "print(es.indices.get_alias(\"*\"))"
   ]
  },
  {
   "cell_type": "code",
   "execution_count": 5,
   "id": "7a5dd2be",
   "metadata": {},
   "outputs": [
    {
     "name": "stderr",
     "output_type": "stream",
     "text": [
      "D:\\Users\\Degananda.Reddy\\AppData\\Local\\Temp\\1/ipykernel_10984/253427002.py:3: DeprecationWarning: The 'body' parameter is deprecated for the 'search' API and will be removed in a future version. Instead use API parameters directly. See https://github.com/elastic/elasticsearch-py/issues/1698 for more information\n",
      "  res = es.search(index='my-index', body=body)\n"
     ]
    },
    {
     "name": "stdout",
     "output_type": "stream",
     "text": [
      "{'took': 328, 'timed_out': False, '_shards': {'total': 1, 'successful': 1, 'skipped': 0, 'failed': 0}, 'hits': {'total': {'value': 2, 'relation': 'eq'}, 'max_score': 2.4816046, 'hits': [{'_index': 'my-index', '_type': '_doc', '_id': 'Dc4YuH0BhipxYBVrVthp', '_score': 2.4816046, '_source': {'balance': '$1,143.56', 'age': 28, 'name': 'Hanson Gates', 'gender': 'male', 'company': 'PEARLESSA', 'email': 'hansongates@pearlessa.com', 'phone': '+1 (825) 524-3896'}}, {'_index': 'my-index', '_type': '_doc', '_id': 'Es4ZuH0BhipxYBVr39jR', '_score': 2.4816046, '_source': {'balance': '$1,143.56', 'age': 28, 'name': 'Hanson Gates', 'gender': 'male', 'company': 'PEARLESSA', 'email': 'hansongates@pearlessa.com', 'phone': '+1 (825) 524-3896'}}]}}\n"
     ]
    }
   ],
   "source": [
    "body = {'query': {'bool': {'must': [{'match': {'gender': 'male'}},\n",
    "                                 {'range': {'age': {'gte': 25}}}]}}}\n",
    "res = es.search(index='my-index', body=body)\n",
    "print(res)"
   ]
  },
  {
   "cell_type": "code",
   "execution_count": 6,
   "id": "c478359c",
   "metadata": {},
   "outputs": [
    {
     "data": {
      "text/plain": [
       "{'took': 328,\n",
       " 'timed_out': False,\n",
       " '_shards': {'total': 1, 'successful': 1, 'skipped': 0, 'failed': 0},\n",
       " 'hits': {'total': {'value': 2, 'relation': 'eq'},\n",
       "  'max_score': 2.4816046,\n",
       "  'hits': [{'_index': 'my-index',\n",
       "    '_type': '_doc',\n",
       "    '_id': 'Dc4YuH0BhipxYBVrVthp',\n",
       "    '_score': 2.4816046,\n",
       "    '_source': {'balance': '$1,143.56',\n",
       "     'age': 28,\n",
       "     'name': 'Hanson Gates',\n",
       "     'gender': 'male',\n",
       "     'company': 'PEARLESSA',\n",
       "     'email': 'hansongates@pearlessa.com',\n",
       "     'phone': '+1 (825) 524-3896'}},\n",
       "   {'_index': 'my-index',\n",
       "    '_type': '_doc',\n",
       "    '_id': 'Es4ZuH0BhipxYBVr39jR',\n",
       "    '_score': 2.4816046,\n",
       "    '_source': {'balance': '$1,143.56',\n",
       "     'age': 28,\n",
       "     'name': 'Hanson Gates',\n",
       "     'gender': 'male',\n",
       "     'company': 'PEARLESSA',\n",
       "     'email': 'hansongates@pearlessa.com',\n",
       "     'phone': '+1 (825) 524-3896'}}]}}"
      ]
     },
     "execution_count": 6,
     "metadata": {},
     "output_type": "execute_result"
    }
   ],
   "source": [
    "res"
   ]
  },
  {
   "cell_type": "code",
   "execution_count": 14,
   "id": "1ba0a418",
   "metadata": {},
   "outputs": [
    {
     "ename": "UnknownDslObject",
     "evalue": "DSL class `must` does not exist in query.",
     "output_type": "error",
     "traceback": [
      "\u001b[1;31m---------------------------------------------------------------------------\u001b[0m",
      "\u001b[1;31mKeyError\u001b[0m                                  Traceback (most recent call last)",
      "\u001b[1;32m~\\Anaconda3\\lib\\site-packages\\elasticsearch_dsl\\utils.py\u001b[0m in \u001b[0;36mget_dsl_class\u001b[1;34m(cls, name, default)\u001b[0m\n\u001b[0;32m    259\u001b[0m         \u001b[1;32mtry\u001b[0m\u001b[1;33m:\u001b[0m\u001b[1;33m\u001b[0m\u001b[1;33m\u001b[0m\u001b[0m\n\u001b[1;32m--> 260\u001b[1;33m             \u001b[1;32mreturn\u001b[0m \u001b[0mcls\u001b[0m\u001b[1;33m.\u001b[0m\u001b[0m_classes\u001b[0m\u001b[1;33m[\u001b[0m\u001b[0mname\u001b[0m\u001b[1;33m]\u001b[0m\u001b[1;33m\u001b[0m\u001b[1;33m\u001b[0m\u001b[0m\n\u001b[0m\u001b[0;32m    261\u001b[0m         \u001b[1;32mexcept\u001b[0m \u001b[0mKeyError\u001b[0m\u001b[1;33m:\u001b[0m\u001b[1;33m\u001b[0m\u001b[1;33m\u001b[0m\u001b[0m\n",
      "\u001b[1;31mKeyError\u001b[0m: 'must'",
      "\nDuring handling of the above exception, another exception occurred:\n",
      "\u001b[1;31mUnknownDslObject\u001b[0m                          Traceback (most recent call last)",
      "\u001b[1;32m~\\AppData\\Local\\Temp\\1/ipykernel_10984/4004919694.py\u001b[0m in \u001b[0;36m<module>\u001b[1;34m\u001b[0m\n\u001b[0;32m      1\u001b[0m \u001b[1;32mfrom\u001b[0m \u001b[0melasticsearch_dsl\u001b[0m \u001b[1;32mimport\u001b[0m \u001b[0mQ\u001b[0m\u001b[1;33m\u001b[0m\u001b[1;33m\u001b[0m\u001b[0m\n\u001b[1;32m----> 2\u001b[1;33m \u001b[0mquery\u001b[0m \u001b[1;33m=\u001b[0m \u001b[0mQ\u001b[0m\u001b[1;33m(\u001b[0m\u001b[1;34m'must'\u001b[0m\u001b[1;33m,\u001b[0m \u001b[0mgender\u001b[0m\u001b[1;33m=\u001b[0m\u001b[1;34m'male'\u001b[0m\u001b[1;33m)\u001b[0m \u001b[1;33m&\u001b[0m \u001b[0mQ\u001b[0m\u001b[1;33m(\u001b[0m\u001b[1;34m'range'\u001b[0m\u001b[1;33m,\u001b[0m \u001b[0mage\u001b[0m\u001b[1;33m=\u001b[0m\u001b[1;33m{\u001b[0m\u001b[1;34m'gte'\u001b[0m\u001b[1;33m:\u001b[0m \u001b[1;36m25\u001b[0m\u001b[1;33m}\u001b[0m\u001b[1;33m)\u001b[0m\u001b[1;33m\u001b[0m\u001b[1;33m\u001b[0m\u001b[0m\n\u001b[0m\u001b[0;32m      3\u001b[0m \u001b[0ms\u001b[0m \u001b[1;33m=\u001b[0m \u001b[0mSearch\u001b[0m\u001b[1;33m(\u001b[0m\u001b[0musing\u001b[0m\u001b[1;33m=\u001b[0m\u001b[0mes\u001b[0m\u001b[1;33m,\u001b[0m \u001b[0mindex\u001b[0m\u001b[1;33m=\u001b[0m\u001b[1;34m'my-index'\u001b[0m\u001b[1;33m)\u001b[0m\u001b[1;33m.\u001b[0m\u001b[0mquery\u001b[0m\u001b[1;33m(\u001b[0m\u001b[0mquery\u001b[0m\u001b[1;33m)\u001b[0m\u001b[1;33m\u001b[0m\u001b[1;33m\u001b[0m\u001b[0m\n\u001b[0;32m      4\u001b[0m \u001b[0mresponse\u001b[0m \u001b[1;33m=\u001b[0m \u001b[0ms\u001b[0m\u001b[1;33m.\u001b[0m\u001b[0mexecute\u001b[0m\u001b[1;33m(\u001b[0m\u001b[1;33m)\u001b[0m\u001b[1;33m\u001b[0m\u001b[1;33m\u001b[0m\u001b[0m\n\u001b[0;32m      5\u001b[0m \u001b[1;32mfor\u001b[0m \u001b[0mhit\u001b[0m \u001b[1;32min\u001b[0m \u001b[0mresponse\u001b[0m\u001b[1;33m:\u001b[0m\u001b[1;33m\u001b[0m\u001b[1;33m\u001b[0m\u001b[0m\n",
      "\u001b[1;32m~\\Anaconda3\\lib\\site-packages\\elasticsearch_dsl\\query.py\u001b[0m in \u001b[0;36mQ\u001b[1;34m(name_or_query, **params)\u001b[0m\n\u001b[0;32m     56\u001b[0m \u001b[1;33m\u001b[0m\u001b[0m\n\u001b[0;32m     57\u001b[0m     \u001b[1;31m# \"match\", title=\"python\"\u001b[0m\u001b[1;33m\u001b[0m\u001b[1;33m\u001b[0m\u001b[0m\n\u001b[1;32m---> 58\u001b[1;33m     \u001b[1;32mreturn\u001b[0m \u001b[0mQuery\u001b[0m\u001b[1;33m.\u001b[0m\u001b[0mget_dsl_class\u001b[0m\u001b[1;33m(\u001b[0m\u001b[0mname_or_query\u001b[0m\u001b[1;33m)\u001b[0m\u001b[1;33m(\u001b[0m\u001b[1;33m**\u001b[0m\u001b[0mparams\u001b[0m\u001b[1;33m)\u001b[0m\u001b[1;33m\u001b[0m\u001b[1;33m\u001b[0m\u001b[0m\n\u001b[0m\u001b[0;32m     59\u001b[0m \u001b[1;33m\u001b[0m\u001b[0m\n\u001b[0;32m     60\u001b[0m \u001b[1;33m\u001b[0m\u001b[0m\n",
      "\u001b[1;32m~\\Anaconda3\\lib\\site-packages\\elasticsearch_dsl\\utils.py\u001b[0m in \u001b[0;36mget_dsl_class\u001b[1;34m(cls, name, default)\u001b[0m\n\u001b[0;32m    262\u001b[0m             \u001b[1;32mif\u001b[0m \u001b[0mdefault\u001b[0m \u001b[1;32mis\u001b[0m \u001b[1;32mnot\u001b[0m \u001b[1;32mNone\u001b[0m\u001b[1;33m:\u001b[0m\u001b[1;33m\u001b[0m\u001b[1;33m\u001b[0m\u001b[0m\n\u001b[0;32m    263\u001b[0m                 \u001b[1;32mreturn\u001b[0m \u001b[0mcls\u001b[0m\u001b[1;33m.\u001b[0m\u001b[0m_classes\u001b[0m\u001b[1;33m[\u001b[0m\u001b[0mdefault\u001b[0m\u001b[1;33m]\u001b[0m\u001b[1;33m\u001b[0m\u001b[1;33m\u001b[0m\u001b[0m\n\u001b[1;32m--> 264\u001b[1;33m             raise UnknownDslObject(\n\u001b[0m\u001b[0;32m    265\u001b[0m                 \u001b[1;34m\"DSL class `{}` does not exist in {}.\"\u001b[0m\u001b[1;33m.\u001b[0m\u001b[0mformat\u001b[0m\u001b[1;33m(\u001b[0m\u001b[0mname\u001b[0m\u001b[1;33m,\u001b[0m \u001b[0mcls\u001b[0m\u001b[1;33m.\u001b[0m\u001b[0m_type_name\u001b[0m\u001b[1;33m)\u001b[0m\u001b[1;33m\u001b[0m\u001b[1;33m\u001b[0m\u001b[0m\n\u001b[0;32m    266\u001b[0m             )\n",
      "\u001b[1;31mUnknownDslObject\u001b[0m: DSL class `must` does not exist in query."
     ]
    }
   ],
   "source": [
    "from elasticsearch_dsl import Q\n",
    "query = Q('match', gender='male') & Q('range', age={'gte': 25})\n",
    "s = Search(using=es, index='my-index').query(query)\n",
    "response = s.execute()\n",
    "for hit in response:\n",
    "    print(hit)"
   ]
  },
  {
   "cell_type": "code",
   "execution_count": 11,
   "id": "24a2fbac",
   "metadata": {},
   "outputs": [
    {
     "data": {
      "text/plain": [
       "<Response: [<Hit(my-index/Dc4YuH0BhipxYBVrVthp): {'balance': '$1,143.56', 'age': 28, 'name': 'Hanson Gates', ...}>, <Hit(my-index/Es4ZuH0BhipxYBVr39jR): {'balance': '$1,143.56', 'age': 28, 'name': 'Hanson Gates', ...}>]>"
      ]
     },
     "execution_count": 11,
     "metadata": {},
     "output_type": "execute_result"
    }
   ],
   "source": [
    "response"
   ]
  },
  {
   "cell_type": "code",
   "execution_count": 9,
   "id": "400eb2cc",
   "metadata": {},
   "outputs": [
    {
     "name": "stdout",
     "output_type": "stream",
     "text": [
      "{'count': 10, '_shards': {'total': 1, 'successful': 1, 'skipped': 0, 'failed': 0}}\n"
     ]
    }
   ],
   "source": [
    "print(es.count(index=\"my-index\"))"
   ]
  },
  {
   "cell_type": "code",
   "execution_count": null,
   "id": "e0a2d6ed",
   "metadata": {},
   "outputs": [],
   "source": [
    "doc = {\n",
    "    'author': 'kimchy',\n",
    "    'text': 'Elasticsearch: cool. bonsai cool.',\n",
    "    'timestamp': datetime.datetime.now(),\n",
    "}\n",
    "res = es.index(index=\"test-index\", id=1, document=doc)\n",
    "print(res['result'])"
   ]
  },
  {
   "cell_type": "code",
   "execution_count": null,
   "id": "da9be4de",
   "metadata": {},
   "outputs": [],
   "source": [
    "res"
   ]
  },
  {
   "cell_type": "code",
   "execution_count": null,
   "id": "1f452488",
   "metadata": {},
   "outputs": [],
   "source": [
    "results = es.get(index=\"test-index\", id=1)\n",
    "print(results['_source'])"
   ]
  },
  {
   "cell_type": "code",
   "execution_count": null,
   "id": "2acf0faa",
   "metadata": {},
   "outputs": [],
   "source": [
    "res = es.search(index=\"test-index\", query={\"match_all\": {}})\n",
    "print(\"Got %d Hits:\" % res['hits']['total']['value'])\n",
    "for hit in res['hits']['hits']:\n",
    "    print(\"%(timestamp)s %(author)s: %(text)s\" % hit[\"_source\"])"
   ]
  },
  {
   "cell_type": "code",
   "execution_count": null,
   "id": "1ceb2e49",
   "metadata": {},
   "outputs": [],
   "source": [
    "output"
   ]
  },
  {
   "cell_type": "code",
   "execution_count": null,
   "id": "05fa4b24",
   "metadata": {},
   "outputs": [],
   "source": [
    "print(es.count(index=\"test-index\"))"
   ]
  },
  {
   "cell_type": "code",
   "execution_count": null,
   "id": "b8e7c2c7",
   "metadata": {},
   "outputs": [],
   "source": []
  }
 ],
 "metadata": {
  "kernelspec": {
   "display_name": "Python 3 (ipykernel)",
   "language": "python",
   "name": "python3"
  },
  "language_info": {
   "codemirror_mode": {
    "name": "ipython",
    "version": 3
   },
   "file_extension": ".py",
   "mimetype": "text/x-python",
   "name": "python",
   "nbconvert_exporter": "python",
   "pygments_lexer": "ipython3",
   "version": "3.9.7"
  }
 },
 "nbformat": 4,
 "nbformat_minor": 5
}
